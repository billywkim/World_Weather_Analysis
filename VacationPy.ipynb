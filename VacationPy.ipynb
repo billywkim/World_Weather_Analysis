{
 "cells": [
  {
   "cell_type": "code",
   "execution_count": 1,
   "id": "da788d1d",
   "metadata": {},
   "outputs": [],
   "source": [
    "# Import the dependencies.\n",
    "import pandas as pd\n",
    "import gmaps\n",
    "import requests\n",
    "# Import the API key.\n",
    "from config import g_key"
   ]
  },
  {
   "cell_type": "code",
   "execution_count": 2,
   "id": "116f0ee0",
   "metadata": {},
   "outputs": [
    {
     "data": {
      "text/html": [
       "<div>\n",
       "<style scoped>\n",
       "    .dataframe tbody tr th:only-of-type {\n",
       "        vertical-align: middle;\n",
       "    }\n",
       "\n",
       "    .dataframe tbody tr th {\n",
       "        vertical-align: top;\n",
       "    }\n",
       "\n",
       "    .dataframe thead th {\n",
       "        text-align: right;\n",
       "    }\n",
       "</style>\n",
       "<table border=\"1\" class=\"dataframe\">\n",
       "  <thead>\n",
       "    <tr style=\"text-align: right;\">\n",
       "      <th></th>\n",
       "      <th>City_ID</th>\n",
       "      <th>City</th>\n",
       "      <th>Country</th>\n",
       "      <th>Date</th>\n",
       "      <th>Lat</th>\n",
       "      <th>Lng</th>\n",
       "      <th>Max Temp</th>\n",
       "      <th>Humidity</th>\n",
       "      <th>Cloudiness</th>\n",
       "      <th>Wind Speed</th>\n",
       "    </tr>\n",
       "  </thead>\n",
       "  <tbody>\n",
       "    <tr>\n",
       "      <th>0</th>\n",
       "      <td>0</td>\n",
       "      <td>Karratha</td>\n",
       "      <td>AU</td>\n",
       "      <td>2022-09-17 01:16:41</td>\n",
       "      <td>-20.7377</td>\n",
       "      <td>116.8463</td>\n",
       "      <td>79.34</td>\n",
       "      <td>22</td>\n",
       "      <td>8</td>\n",
       "      <td>19.06</td>\n",
       "    </tr>\n",
       "    <tr>\n",
       "      <th>1</th>\n",
       "      <td>1</td>\n",
       "      <td>Cidreira</td>\n",
       "      <td>BR</td>\n",
       "      <td>2022-09-17 01:16:41</td>\n",
       "      <td>-30.1811</td>\n",
       "      <td>-50.2056</td>\n",
       "      <td>60.66</td>\n",
       "      <td>81</td>\n",
       "      <td>0</td>\n",
       "      <td>13.51</td>\n",
       "    </tr>\n",
       "    <tr>\n",
       "      <th>2</th>\n",
       "      <td>2</td>\n",
       "      <td>Pisco</td>\n",
       "      <td>PE</td>\n",
       "      <td>2022-09-17 01:16:41</td>\n",
       "      <td>-13.7000</td>\n",
       "      <td>-76.2167</td>\n",
       "      <td>59.05</td>\n",
       "      <td>88</td>\n",
       "      <td>20</td>\n",
       "      <td>9.22</td>\n",
       "    </tr>\n",
       "    <tr>\n",
       "      <th>3</th>\n",
       "      <td>3</td>\n",
       "      <td>Baherden</td>\n",
       "      <td>TM</td>\n",
       "      <td>2022-09-17 01:16:42</td>\n",
       "      <td>38.4362</td>\n",
       "      <td>57.4316</td>\n",
       "      <td>69.03</td>\n",
       "      <td>34</td>\n",
       "      <td>80</td>\n",
       "      <td>1.43</td>\n",
       "    </tr>\n",
       "    <tr>\n",
       "      <th>4</th>\n",
       "      <td>4</td>\n",
       "      <td>Taoudenni</td>\n",
       "      <td>ML</td>\n",
       "      <td>2022-09-17 01:16:42</td>\n",
       "      <td>22.6783</td>\n",
       "      <td>-3.9836</td>\n",
       "      <td>91.56</td>\n",
       "      <td>17</td>\n",
       "      <td>0</td>\n",
       "      <td>8.50</td>\n",
       "    </tr>\n",
       "  </tbody>\n",
       "</table>\n",
       "</div>"
      ],
      "text/plain": [
       "   City_ID       City Country                 Date      Lat       Lng  \\\n",
       "0        0   Karratha      AU  2022-09-17 01:16:41 -20.7377  116.8463   \n",
       "1        1   Cidreira      BR  2022-09-17 01:16:41 -30.1811  -50.2056   \n",
       "2        2      Pisco      PE  2022-09-17 01:16:41 -13.7000  -76.2167   \n",
       "3        3   Baherden      TM  2022-09-17 01:16:42  38.4362   57.4316   \n",
       "4        4  Taoudenni      ML  2022-09-17 01:16:42  22.6783   -3.9836   \n",
       "\n",
       "   Max Temp  Humidity  Cloudiness  Wind Speed  \n",
       "0     79.34        22           8       19.06  \n",
       "1     60.66        81           0       13.51  \n",
       "2     59.05        88          20        9.22  \n",
       "3     69.03        34          80        1.43  \n",
       "4     91.56        17           0        8.50  "
      ]
     },
     "execution_count": 2,
     "metadata": {},
     "output_type": "execute_result"
    }
   ],
   "source": [
    "# Store the CSV you saved created in part one into a DataFrame.\n",
    "city_data_df = pd.read_csv(\"cities.csv\")\n",
    "city_data_df.head()"
   ]
  },
  {
   "cell_type": "code",
   "execution_count": 3,
   "id": "1552d3db",
   "metadata": {},
   "outputs": [
    {
     "data": {
      "text/plain": [
       "City_ID         int64\n",
       "City           object\n",
       "Country        object\n",
       "Date           object\n",
       "Lat           float64\n",
       "Lng           float64\n",
       "Max Temp      float64\n",
       "Humidity        int64\n",
       "Cloudiness      int64\n",
       "Wind Speed    float64\n",
       "dtype: object"
      ]
     },
     "execution_count": 3,
     "metadata": {},
     "output_type": "execute_result"
    }
   ],
   "source": [
    "city_data_df.dtypes"
   ]
  },
  {
   "cell_type": "code",
   "execution_count": 4,
   "id": "66da37f0",
   "metadata": {},
   "outputs": [],
   "source": [
    "# Configure gmaps to use your Google API key.\n",
    "gmaps.configure(api_key=g_key)"
   ]
  },
  {
   "cell_type": "code",
   "execution_count": 5,
   "id": "fc0c4cb0",
   "metadata": {},
   "outputs": [],
   "source": [
    "# Get the maximum temperature.\n",
    "max_temp = city_data_df[\"Max Temp\"]\n",
    "temps = []\n",
    "for temp in max_temp:\n",
    "    temps.append(max(temp, 0))"
   ]
  },
  {
   "cell_type": "code",
   "execution_count": 6,
   "id": "9fe47905",
   "metadata": {},
   "outputs": [
    {
     "data": {
      "application/vnd.jupyter.widget-view+json": {
       "model_id": "21bf20f907c240a696b569bd2a8c7bad",
       "version_major": 2,
       "version_minor": 0
      },
      "text/plain": [
       "Figure(layout=FigureLayout(height='420px'))"
      ]
     },
     "metadata": {},
     "output_type": "display_data"
    }
   ],
   "source": [
    "# Heatmap of temperature\n",
    "# Get the latitude and longitude.\n",
    "locations = city_data_df[[\"Lat\", \"Lng\"]]\n",
    "# Get the maximum temperature.\n",
    "max_temp = city_data_df[\"Max Temp\"]\n",
    "# Assign the figure variable.\n",
    "fig = gmaps.figure()\n",
    "# Assign the heatmap variable.\n",
    "heat_layer = gmaps.heatmap_layer(locations, weights=temps)\n",
    "# Add the heatmap layer.\n",
    "fig.add_layer(heat_layer)\n",
    "# Call the figure to plot the data.\n",
    "fig"
   ]
  },
  {
   "cell_type": "code",
   "execution_count": 7,
   "id": "571cb557",
   "metadata": {},
   "outputs": [],
   "source": [
    "fig = gmaps.figure(center=(30.0, 31.0), zoom_level=1.5)"
   ]
  },
  {
   "cell_type": "code",
   "execution_count": 8,
   "id": "9e196bed",
   "metadata": {},
   "outputs": [
    {
     "data": {
      "application/vnd.jupyter.widget-view+json": {
       "model_id": "8cadc8031bd44b50a506496a773a8aeb",
       "version_major": 2,
       "version_minor": 0
      },
      "text/plain": [
       "Figure(layout=FigureLayout(height='420px'))"
      ]
     },
     "metadata": {},
     "output_type": "display_data"
    }
   ],
   "source": [
    "# Heatmap of percent humidity\n",
    "locations = city_data_df[[\"Lat\", \"Lng\"]]\n",
    "humidity = city_data_df[\"Humidity\"]\n",
    "fig = gmaps.figure(center=(30.0, 31.0), zoom_level=1.5)\n",
    "heat_layer = gmaps.heatmap_layer(locations, weights=humidity, dissipating=False, max_intensity=300, point_radius=4)\n",
    "\n",
    "fig.add_layer(heat_layer)\n",
    "# Call the figure to plot the data.\n",
    "fig"
   ]
  },
  {
   "cell_type": "code",
   "execution_count": 9,
   "id": "b407874d",
   "metadata": {
    "scrolled": false
   },
   "outputs": [
    {
     "data": {
      "application/vnd.jupyter.widget-view+json": {
       "model_id": "3b365c42053f4e3f9b380ef59ded4933",
       "version_major": 2,
       "version_minor": 0
      },
      "text/plain": [
       "Figure(layout=FigureLayout(height='420px'))"
      ]
     },
     "metadata": {},
     "output_type": "display_data"
    }
   ],
   "source": [
    "# Heatmap of cloudiness\n",
    "locations = city_data_df[['Lat', 'Lng']]\n",
    "clouds = city_data_df['Cloudiness']\n",
    "fig = gmaps.figure(center=(30.0, 31), zoom_level=1.5)\n",
    "heat_layer = gmaps.heatmap_layer(locations, weights=clouds, \n",
    "                                 dissipating=False, max_intensity=300, point_radius=4)\n",
    "\n",
    "fig.add_layer(heat_layer)\n",
    "fig"
   ]
  },
  {
   "cell_type": "code",
   "execution_count": 11,
   "id": "ed17d983",
   "metadata": {},
   "outputs": [
    {
     "data": {
      "application/vnd.jupyter.widget-view+json": {
       "model_id": "b9bafd68308f4acfafa1d8393bd2eecd",
       "version_major": 2,
       "version_minor": 0
      },
      "text/plain": [
       "Figure(layout=FigureLayout(height='420px'))"
      ]
     },
     "metadata": {},
     "output_type": "display_data"
    }
   ],
   "source": [
    "# Heatmap of Wind Speed\n",
    "locations = city_data_df[['Lat', 'Lng']]\n",
    "wind = city_data_df['Wind Speed']\n",
    "fig = gmaps.figure(center=(30.0, 31), zoom_level=1.5)\n",
    "heat_layer = gmaps.heatmap_layer(locations, weights=wind, \n",
    "                                 dissipating=False, max_intensity=300, point_radius=4)\n",
    "\n",
    "fig.add_layer(heat_layer)\n",
    "fig"
   ]
  },
  {
   "cell_type": "code",
   "execution_count": 10,
   "id": "6dcf8676",
   "metadata": {},
   "outputs": [
    {
     "name": "stdout",
     "output_type": "stream",
     "text": [
      "What is the minimum temperature you would like for your trip? 75\n",
      "What is the maximum temperature you would like for your trip? 90\n"
     ]
    }
   ],
   "source": [
    "# Ask the customer to add a minimum and maximum temperature value.\n",
    "min_temp = float(input(\"What is the minimum temperature you would like for your trip? \"))\n",
    "max_temp = float(input(\"What is the maximum temperature you would like for your trip? \"))"
   ]
  },
  {
   "cell_type": "code",
   "execution_count": 12,
   "id": "c3ab4c43",
   "metadata": {},
   "outputs": [
    {
     "data": {
      "text/html": [
       "<div>\n",
       "<style scoped>\n",
       "    .dataframe tbody tr th:only-of-type {\n",
       "        vertical-align: middle;\n",
       "    }\n",
       "\n",
       "    .dataframe tbody tr th {\n",
       "        vertical-align: top;\n",
       "    }\n",
       "\n",
       "    .dataframe thead th {\n",
       "        text-align: right;\n",
       "    }\n",
       "</style>\n",
       "<table border=\"1\" class=\"dataframe\">\n",
       "  <thead>\n",
       "    <tr style=\"text-align: right;\">\n",
       "      <th></th>\n",
       "      <th>City_ID</th>\n",
       "      <th>City</th>\n",
       "      <th>Country</th>\n",
       "      <th>Date</th>\n",
       "      <th>Lat</th>\n",
       "      <th>Lng</th>\n",
       "      <th>Max Temp</th>\n",
       "      <th>Humidity</th>\n",
       "      <th>Cloudiness</th>\n",
       "      <th>Wind Speed</th>\n",
       "    </tr>\n",
       "  </thead>\n",
       "  <tbody>\n",
       "    <tr>\n",
       "      <th>0</th>\n",
       "      <td>0</td>\n",
       "      <td>Karratha</td>\n",
       "      <td>AU</td>\n",
       "      <td>2022-09-17 01:16:41</td>\n",
       "      <td>-20.7377</td>\n",
       "      <td>116.8463</td>\n",
       "      <td>79.34</td>\n",
       "      <td>22</td>\n",
       "      <td>8</td>\n",
       "      <td>19.06</td>\n",
       "    </tr>\n",
       "    <tr>\n",
       "      <th>7</th>\n",
       "      <td>7</td>\n",
       "      <td>Yaring</td>\n",
       "      <td>TH</td>\n",
       "      <td>2022-09-17 01:16:43</td>\n",
       "      <td>6.8662</td>\n",
       "      <td>101.3689</td>\n",
       "      <td>80.89</td>\n",
       "      <td>76</td>\n",
       "      <td>73</td>\n",
       "      <td>8.95</td>\n",
       "    </tr>\n",
       "    <tr>\n",
       "      <th>10</th>\n",
       "      <td>10</td>\n",
       "      <td>Atuona</td>\n",
       "      <td>PF</td>\n",
       "      <td>2022-09-17 01:16:44</td>\n",
       "      <td>-9.8000</td>\n",
       "      <td>-139.0333</td>\n",
       "      <td>76.69</td>\n",
       "      <td>70</td>\n",
       "      <td>17</td>\n",
       "      <td>18.86</td>\n",
       "    </tr>\n",
       "    <tr>\n",
       "      <th>13</th>\n",
       "      <td>13</td>\n",
       "      <td>North Myrtle Beach</td>\n",
       "      <td>US</td>\n",
       "      <td>2022-09-17 01:14:55</td>\n",
       "      <td>33.8160</td>\n",
       "      <td>-78.6800</td>\n",
       "      <td>76.06</td>\n",
       "      <td>85</td>\n",
       "      <td>0</td>\n",
       "      <td>0.00</td>\n",
       "    </tr>\n",
       "    <tr>\n",
       "      <th>14</th>\n",
       "      <td>14</td>\n",
       "      <td>Tavares</td>\n",
       "      <td>US</td>\n",
       "      <td>2022-09-17 01:16:14</td>\n",
       "      <td>28.8042</td>\n",
       "      <td>-81.7256</td>\n",
       "      <td>75.99</td>\n",
       "      <td>93</td>\n",
       "      <td>20</td>\n",
       "      <td>8.05</td>\n",
       "    </tr>\n",
       "    <tr>\n",
       "      <th>16</th>\n",
       "      <td>16</td>\n",
       "      <td>Banda Aceh</td>\n",
       "      <td>ID</td>\n",
       "      <td>2022-09-17 01:16:46</td>\n",
       "      <td>5.5577</td>\n",
       "      <td>95.3222</td>\n",
       "      <td>81.01</td>\n",
       "      <td>75</td>\n",
       "      <td>100</td>\n",
       "      <td>12.68</td>\n",
       "    </tr>\n",
       "    <tr>\n",
       "      <th>21</th>\n",
       "      <td>21</td>\n",
       "      <td>Bandarbeyla</td>\n",
       "      <td>SO</td>\n",
       "      <td>2022-09-17 01:16:47</td>\n",
       "      <td>9.4942</td>\n",
       "      <td>50.8122</td>\n",
       "      <td>78.22</td>\n",
       "      <td>76</td>\n",
       "      <td>34</td>\n",
       "      <td>22.82</td>\n",
       "    </tr>\n",
       "    <tr>\n",
       "      <th>22</th>\n",
       "      <td>22</td>\n",
       "      <td>Waxahachie</td>\n",
       "      <td>US</td>\n",
       "      <td>2022-09-17 01:16:47</td>\n",
       "      <td>32.3865</td>\n",
       "      <td>-96.8483</td>\n",
       "      <td>86.32</td>\n",
       "      <td>60</td>\n",
       "      <td>0</td>\n",
       "      <td>0.00</td>\n",
       "    </tr>\n",
       "    <tr>\n",
       "      <th>27</th>\n",
       "      <td>27</td>\n",
       "      <td>The Valley</td>\n",
       "      <td>AI</td>\n",
       "      <td>2022-09-17 01:16:49</td>\n",
       "      <td>18.2170</td>\n",
       "      <td>-63.0578</td>\n",
       "      <td>83.10</td>\n",
       "      <td>79</td>\n",
       "      <td>64</td>\n",
       "      <td>31.12</td>\n",
       "    </tr>\n",
       "    <tr>\n",
       "      <th>29</th>\n",
       "      <td>29</td>\n",
       "      <td>Vaini</td>\n",
       "      <td>TO</td>\n",
       "      <td>2022-09-17 01:16:49</td>\n",
       "      <td>-21.2000</td>\n",
       "      <td>-175.2000</td>\n",
       "      <td>78.96</td>\n",
       "      <td>83</td>\n",
       "      <td>40</td>\n",
       "      <td>8.05</td>\n",
       "    </tr>\n",
       "  </tbody>\n",
       "</table>\n",
       "</div>"
      ],
      "text/plain": [
       "    City_ID                City Country                 Date      Lat  \\\n",
       "0         0            Karratha      AU  2022-09-17 01:16:41 -20.7377   \n",
       "7         7              Yaring      TH  2022-09-17 01:16:43   6.8662   \n",
       "10       10              Atuona      PF  2022-09-17 01:16:44  -9.8000   \n",
       "13       13  North Myrtle Beach      US  2022-09-17 01:14:55  33.8160   \n",
       "14       14             Tavares      US  2022-09-17 01:16:14  28.8042   \n",
       "16       16          Banda Aceh      ID  2022-09-17 01:16:46   5.5577   \n",
       "21       21         Bandarbeyla      SO  2022-09-17 01:16:47   9.4942   \n",
       "22       22          Waxahachie      US  2022-09-17 01:16:47  32.3865   \n",
       "27       27          The Valley      AI  2022-09-17 01:16:49  18.2170   \n",
       "29       29               Vaini      TO  2022-09-17 01:16:49 -21.2000   \n",
       "\n",
       "         Lng  Max Temp  Humidity  Cloudiness  Wind Speed  \n",
       "0   116.8463     79.34        22           8       19.06  \n",
       "7   101.3689     80.89        76          73        8.95  \n",
       "10 -139.0333     76.69        70          17       18.86  \n",
       "13  -78.6800     76.06        85           0        0.00  \n",
       "14  -81.7256     75.99        93          20        8.05  \n",
       "16   95.3222     81.01        75         100       12.68  \n",
       "21   50.8122     78.22        76          34       22.82  \n",
       "22  -96.8483     86.32        60           0        0.00  \n",
       "27  -63.0578     83.10        79          64       31.12  \n",
       "29 -175.2000     78.96        83          40        8.05  "
      ]
     },
     "execution_count": 12,
     "metadata": {},
     "output_type": "execute_result"
    }
   ],
   "source": [
    "# Filter the dataset to find the cities that fit the criteria.\n",
    "preferred_cities_df = city_data_df.loc[(city_data_df[\"Max Temp\"] <= max_temp) & \\\n",
    "                                       (city_data_df[\"Max Temp\"] >= min_temp)]\n",
    "preferred_cities_df.head(10)"
   ]
  },
  {
   "cell_type": "code",
   "execution_count": 13,
   "id": "abd351fb",
   "metadata": {},
   "outputs": [
    {
     "data": {
      "text/plain": [
       "City_ID       165\n",
       "City          165\n",
       "Country       165\n",
       "Date          165\n",
       "Lat           165\n",
       "Lng           165\n",
       "Max Temp      165\n",
       "Humidity      165\n",
       "Cloudiness    165\n",
       "Wind Speed    165\n",
       "dtype: int64"
      ]
     },
     "execution_count": 13,
     "metadata": {},
     "output_type": "execute_result"
    }
   ],
   "source": [
    "preferred_cities_df.count()"
   ]
  },
  {
   "cell_type": "code",
   "execution_count": 14,
   "id": "529e887d",
   "metadata": {},
   "outputs": [
    {
     "data": {
      "text/html": [
       "<div>\n",
       "<style scoped>\n",
       "    .dataframe tbody tr th:only-of-type {\n",
       "        vertical-align: middle;\n",
       "    }\n",
       "\n",
       "    .dataframe tbody tr th {\n",
       "        vertical-align: top;\n",
       "    }\n",
       "\n",
       "    .dataframe thead th {\n",
       "        text-align: right;\n",
       "    }\n",
       "</style>\n",
       "<table border=\"1\" class=\"dataframe\">\n",
       "  <thead>\n",
       "    <tr style=\"text-align: right;\">\n",
       "      <th></th>\n",
       "      <th>City</th>\n",
       "      <th>Country</th>\n",
       "      <th>Max Temp</th>\n",
       "      <th>Lat</th>\n",
       "      <th>Lng</th>\n",
       "      <th>Hotel Name</th>\n",
       "    </tr>\n",
       "  </thead>\n",
       "  <tbody>\n",
       "    <tr>\n",
       "      <th>0</th>\n",
       "      <td>Karratha</td>\n",
       "      <td>AU</td>\n",
       "      <td>79.34</td>\n",
       "      <td>-20.7377</td>\n",
       "      <td>116.8463</td>\n",
       "      <td></td>\n",
       "    </tr>\n",
       "    <tr>\n",
       "      <th>7</th>\n",
       "      <td>Yaring</td>\n",
       "      <td>TH</td>\n",
       "      <td>80.89</td>\n",
       "      <td>6.8662</td>\n",
       "      <td>101.3689</td>\n",
       "      <td></td>\n",
       "    </tr>\n",
       "    <tr>\n",
       "      <th>10</th>\n",
       "      <td>Atuona</td>\n",
       "      <td>PF</td>\n",
       "      <td>76.69</td>\n",
       "      <td>-9.8000</td>\n",
       "      <td>-139.0333</td>\n",
       "      <td></td>\n",
       "    </tr>\n",
       "    <tr>\n",
       "      <th>13</th>\n",
       "      <td>North Myrtle Beach</td>\n",
       "      <td>US</td>\n",
       "      <td>76.06</td>\n",
       "      <td>33.8160</td>\n",
       "      <td>-78.6800</td>\n",
       "      <td></td>\n",
       "    </tr>\n",
       "    <tr>\n",
       "      <th>14</th>\n",
       "      <td>Tavares</td>\n",
       "      <td>US</td>\n",
       "      <td>75.99</td>\n",
       "      <td>28.8042</td>\n",
       "      <td>-81.7256</td>\n",
       "      <td></td>\n",
       "    </tr>\n",
       "    <tr>\n",
       "      <th>16</th>\n",
       "      <td>Banda Aceh</td>\n",
       "      <td>ID</td>\n",
       "      <td>81.01</td>\n",
       "      <td>5.5577</td>\n",
       "      <td>95.3222</td>\n",
       "      <td></td>\n",
       "    </tr>\n",
       "    <tr>\n",
       "      <th>21</th>\n",
       "      <td>Bandarbeyla</td>\n",
       "      <td>SO</td>\n",
       "      <td>78.22</td>\n",
       "      <td>9.4942</td>\n",
       "      <td>50.8122</td>\n",
       "      <td></td>\n",
       "    </tr>\n",
       "    <tr>\n",
       "      <th>22</th>\n",
       "      <td>Waxahachie</td>\n",
       "      <td>US</td>\n",
       "      <td>86.32</td>\n",
       "      <td>32.3865</td>\n",
       "      <td>-96.8483</td>\n",
       "      <td></td>\n",
       "    </tr>\n",
       "    <tr>\n",
       "      <th>27</th>\n",
       "      <td>The Valley</td>\n",
       "      <td>AI</td>\n",
       "      <td>83.10</td>\n",
       "      <td>18.2170</td>\n",
       "      <td>-63.0578</td>\n",
       "      <td></td>\n",
       "    </tr>\n",
       "    <tr>\n",
       "      <th>29</th>\n",
       "      <td>Vaini</td>\n",
       "      <td>TO</td>\n",
       "      <td>78.96</td>\n",
       "      <td>-21.2000</td>\n",
       "      <td>-175.2000</td>\n",
       "      <td></td>\n",
       "    </tr>\n",
       "  </tbody>\n",
       "</table>\n",
       "</div>"
      ],
      "text/plain": [
       "                  City Country  Max Temp      Lat       Lng Hotel Name\n",
       "0             Karratha      AU     79.34 -20.7377  116.8463           \n",
       "7               Yaring      TH     80.89   6.8662  101.3689           \n",
       "10              Atuona      PF     76.69  -9.8000 -139.0333           \n",
       "13  North Myrtle Beach      US     76.06  33.8160  -78.6800           \n",
       "14             Tavares      US     75.99  28.8042  -81.7256           \n",
       "16          Banda Aceh      ID     81.01   5.5577   95.3222           \n",
       "21         Bandarbeyla      SO     78.22   9.4942   50.8122           \n",
       "22          Waxahachie      US     86.32  32.3865  -96.8483           \n",
       "27          The Valley      AI     83.10  18.2170  -63.0578           \n",
       "29               Vaini      TO     78.96 -21.2000 -175.2000           "
      ]
     },
     "execution_count": 14,
     "metadata": {},
     "output_type": "execute_result"
    }
   ],
   "source": [
    "# Create DataFrame called hotel_df to store hotel names along with city, country, max temp, and coordinates.\n",
    "hotel_df = preferred_cities_df[[\"City\", \"Country\", \"Max Temp\", \"Lat\", \"Lng\"]].copy()\n",
    "hotel_df[\"Hotel Name\"] = \"\"\n",
    "hotel_df.head(10)"
   ]
  },
  {
   "cell_type": "code",
   "execution_count": 15,
   "id": "8abf89af",
   "metadata": {},
   "outputs": [],
   "source": [
    "# Set parameters to search for a hotel.\n",
    "params = {\n",
    "    \"radius\": 5000,\n",
    "    \"type\": \"lodging\",\n",
    "    \"key\": g_key\n",
    "}"
   ]
  },
  {
   "cell_type": "code",
   "execution_count": 20,
   "id": "dc652cb7",
   "metadata": {},
   "outputs": [
    {
     "name": "stdout",
     "output_type": "stream",
     "text": [
      "Hotel not found... skipping.\n",
      "Hotel not found... skipping.\n",
      "Hotel not found... skipping.\n",
      "Hotel not found... skipping.\n",
      "Hotel not found... skipping.\n"
     ]
    }
   ],
   "source": [
    "# Iterate through the DataFrame.\n",
    "for index, row in hotel_df.iterrows():\n",
    "    # Get the latitude and longitude.\n",
    "    lat = row[\"Lat\"]\n",
    "    lng = row[\"Lng\"]\n",
    "\n",
    "    # Add the latitude and longitude to location key for the params dictionary.\n",
    "    params[\"location\"] = f\"{lat},{lng}\"\n",
    "\n",
    "    # Use the search term: \"lodging\" and our latitude and longitude.\n",
    "    base_url = \"https://maps.googleapis.com/maps/api/place/nearbysearch/json\"\n",
    "    # Make request and get the JSON data from the search.\n",
    "    hotels = requests.get(base_url, params=params).json()\n",
    "    # Grab the first hotel from the results and store the name.\n",
    "    try:\n",
    "        hotel_df.loc[index, \"Hotel Name\"] = hotels[\"results\"][0][\"name\"]\n",
    "    except (IndexError):\n",
    "        print(\"Hotel not found... skipping.\")"
   ]
  },
  {
   "cell_type": "code",
   "execution_count": 21,
   "id": "2d091669",
   "metadata": {},
   "outputs": [
    {
     "data": {
      "text/html": [
       "<div>\n",
       "<style scoped>\n",
       "    .dataframe tbody tr th:only-of-type {\n",
       "        vertical-align: middle;\n",
       "    }\n",
       "\n",
       "    .dataframe tbody tr th {\n",
       "        vertical-align: top;\n",
       "    }\n",
       "\n",
       "    .dataframe thead th {\n",
       "        text-align: right;\n",
       "    }\n",
       "</style>\n",
       "<table border=\"1\" class=\"dataframe\">\n",
       "  <thead>\n",
       "    <tr style=\"text-align: right;\">\n",
       "      <th></th>\n",
       "      <th>City</th>\n",
       "      <th>Country</th>\n",
       "      <th>Max Temp</th>\n",
       "      <th>Lat</th>\n",
       "      <th>Lng</th>\n",
       "      <th>Hotel Name</th>\n",
       "    </tr>\n",
       "  </thead>\n",
       "  <tbody>\n",
       "    <tr>\n",
       "      <th>0</th>\n",
       "      <td>Karratha</td>\n",
       "      <td>AU</td>\n",
       "      <td>79.34</td>\n",
       "      <td>-20.7377</td>\n",
       "      <td>116.8463</td>\n",
       "      <td>ibis Styles Karratha</td>\n",
       "    </tr>\n",
       "    <tr>\n",
       "      <th>7</th>\n",
       "      <td>Yaring</td>\n",
       "      <td>TH</td>\n",
       "      <td>80.89</td>\n",
       "      <td>6.8662</td>\n",
       "      <td>101.3689</td>\n",
       "      <td>สถานที่จัดงานแต่ง SOFEE &amp; DORN</td>\n",
       "    </tr>\n",
       "    <tr>\n",
       "      <th>10</th>\n",
       "      <td>Atuona</td>\n",
       "      <td>PF</td>\n",
       "      <td>76.69</td>\n",
       "      <td>-9.8000</td>\n",
       "      <td>-139.0333</td>\n",
       "      <td>Hôtel Hiva Oa Hanakee Lodge</td>\n",
       "    </tr>\n",
       "    <tr>\n",
       "      <th>13</th>\n",
       "      <td>North Myrtle Beach</td>\n",
       "      <td>US</td>\n",
       "      <td>76.06</td>\n",
       "      <td>33.8160</td>\n",
       "      <td>-78.6800</td>\n",
       "      <td>Avista Resort</td>\n",
       "    </tr>\n",
       "    <tr>\n",
       "      <th>14</th>\n",
       "      <td>Tavares</td>\n",
       "      <td>US</td>\n",
       "      <td>75.99</td>\n",
       "      <td>28.8042</td>\n",
       "      <td>-81.7256</td>\n",
       "      <td>Holiday Inn Express &amp; Suites Tavares - Leesbur...</td>\n",
       "    </tr>\n",
       "    <tr>\n",
       "      <th>...</th>\n",
       "      <td>...</td>\n",
       "      <td>...</td>\n",
       "      <td>...</td>\n",
       "      <td>...</td>\n",
       "      <td>...</td>\n",
       "      <td>...</td>\n",
       "    </tr>\n",
       "    <tr>\n",
       "      <th>562</th>\n",
       "      <td>Jackson</td>\n",
       "      <td>US</td>\n",
       "      <td>79.16</td>\n",
       "      <td>42.4165</td>\n",
       "      <td>-122.8345</td>\n",
       "      <td>Agate Village Apartments</td>\n",
       "    </tr>\n",
       "    <tr>\n",
       "      <th>566</th>\n",
       "      <td>Camocim</td>\n",
       "      <td>BR</td>\n",
       "      <td>77.59</td>\n",
       "      <td>-2.9022</td>\n",
       "      <td>-40.8411</td>\n",
       "      <td>Ilha Praia Hotel</td>\n",
       "    </tr>\n",
       "    <tr>\n",
       "      <th>567</th>\n",
       "      <td>Moranbah</td>\n",
       "      <td>AU</td>\n",
       "      <td>82.69</td>\n",
       "      <td>-22.0016</td>\n",
       "      <td>148.0466</td>\n",
       "      <td>Property Vine - Monterey Moranbah</td>\n",
       "    </tr>\n",
       "    <tr>\n",
       "      <th>569</th>\n",
       "      <td>Biak</td>\n",
       "      <td>ID</td>\n",
       "      <td>80.44</td>\n",
       "      <td>-0.9131</td>\n",
       "      <td>122.8766</td>\n",
       "      <td>Penginapan Kim</td>\n",
       "    </tr>\n",
       "    <tr>\n",
       "      <th>572</th>\n",
       "      <td>Chizhou</td>\n",
       "      <td>CN</td>\n",
       "      <td>80.08</td>\n",
       "      <td>30.6578</td>\n",
       "      <td>117.4831</td>\n",
       "      <td>Home Inn Chizhou Qiupu West Road Xiushanmen Sq...</td>\n",
       "    </tr>\n",
       "  </tbody>\n",
       "</table>\n",
       "<p>165 rows × 6 columns</p>\n",
       "</div>"
      ],
      "text/plain": [
       "                   City Country  Max Temp      Lat       Lng  \\\n",
       "0              Karratha      AU     79.34 -20.7377  116.8463   \n",
       "7                Yaring      TH     80.89   6.8662  101.3689   \n",
       "10               Atuona      PF     76.69  -9.8000 -139.0333   \n",
       "13   North Myrtle Beach      US     76.06  33.8160  -78.6800   \n",
       "14              Tavares      US     75.99  28.8042  -81.7256   \n",
       "..                  ...     ...       ...      ...       ...   \n",
       "562             Jackson      US     79.16  42.4165 -122.8345   \n",
       "566             Camocim      BR     77.59  -2.9022  -40.8411   \n",
       "567            Moranbah      AU     82.69 -22.0016  148.0466   \n",
       "569                Biak      ID     80.44  -0.9131  122.8766   \n",
       "572             Chizhou      CN     80.08  30.6578  117.4831   \n",
       "\n",
       "                                            Hotel Name  \n",
       "0                                 ibis Styles Karratha  \n",
       "7                       สถานที่จัดงานแต่ง SOFEE & DORN  \n",
       "10                         Hôtel Hiva Oa Hanakee Lodge  \n",
       "13                                       Avista Resort  \n",
       "14   Holiday Inn Express & Suites Tavares - Leesbur...  \n",
       "..                                                 ...  \n",
       "562                           Agate Village Apartments  \n",
       "566                                   Ilha Praia Hotel  \n",
       "567                  Property Vine - Monterey Moranbah  \n",
       "569                                     Penginapan Kim  \n",
       "572  Home Inn Chizhou Qiupu West Road Xiushanmen Sq...  \n",
       "\n",
       "[165 rows x 6 columns]"
      ]
     },
     "execution_count": 21,
     "metadata": {},
     "output_type": "execute_result"
    }
   ],
   "source": [
    "hotel_df"
   ]
  },
  {
   "cell_type": "code",
   "execution_count": 22,
   "id": "d94128b7",
   "metadata": {},
   "outputs": [
    {
     "data": {
      "application/vnd.jupyter.widget-view+json": {
       "model_id": "771b5478b74d4c3492583d4aa8a44bb3",
       "version_major": 2,
       "version_minor": 0
      },
      "text/plain": [
       "Figure(layout=FigureLayout(height='420px'))"
      ]
     },
     "metadata": {},
     "output_type": "display_data"
    }
   ],
   "source": [
    "# Add a heatmap of temperature for the vacation spots.\n",
    "locations = hotel_df[[\"Lat\", \"Lng\"]]\n",
    "max_temp = hotel_df[\"Max Temp\"]\n",
    "fig = gmaps.figure(center=(30.0, 31.0), zoom_level=1.5)\n",
    "heat_layer = gmaps.heatmap_layer(locations, weights=max_temp, dissipating=False,\n",
    "             max_intensity=300, point_radius=4)\n",
    "\n",
    "fig.add_layer(heat_layer)\n",
    "# Call the figure to plot the data.\n",
    "fig"
   ]
  },
  {
   "cell_type": "code",
   "execution_count": 23,
   "id": "6fc4e657",
   "metadata": {},
   "outputs": [
    {
     "data": {
      "application/vnd.jupyter.widget-view+json": {
       "model_id": "0bf61569d918498d9a1e1ca42cc348df",
       "version_major": 2,
       "version_minor": 0
      },
      "text/plain": [
       "Figure(layout=FigureLayout(height='420px'))"
      ]
     },
     "metadata": {},
     "output_type": "display_data"
    }
   ],
   "source": [
    "# Add a heatmap of temperature for the vacation spots and marker for each city.\n",
    "locations = hotel_df[[\"Lat\", \"Lng\"]]\n",
    "max_temp = hotel_df[\"Max Temp\"]\n",
    "fig = gmaps.figure(center=(30.0, 31.0), zoom_level=1.5)\n",
    "heat_layer = gmaps.heatmap_layer(locations, weights=max_temp,\n",
    "             dissipating=False, max_intensity=300, point_radius=4)\n",
    "marker_layer = gmaps.marker_layer(locations)\n",
    "fig.add_layer(heat_layer)\n",
    "fig.add_layer(marker_layer)\n",
    "# Call the figure to plot the data.\n",
    "fig"
   ]
  },
  {
   "cell_type": "code",
   "execution_count": 24,
   "id": "ffa45cd5",
   "metadata": {},
   "outputs": [],
   "source": [
    "info_box_template = \"\"\"\n",
    "<dl>\n",
    "<dt>Hotel Name</dt><dd>{Hotel Name}</dd>\n",
    "<dt>City</dt><dd>{City}</dd>\n",
    "<dt>Country</dt><dd>{Country}</dd>\n",
    "<dt>Max Temp</dt><dd>{Max Temp} °F</dd>\n",
    "</dl>\n",
    "\"\"\""
   ]
  },
  {
   "cell_type": "code",
   "execution_count": 25,
   "id": "20385999",
   "metadata": {},
   "outputs": [],
   "source": [
    "# Store the DataFrame Row.\n",
    "hotel_info = [info_box_template.format(**row) for index, row in hotel_df.iterrows()]"
   ]
  },
  {
   "cell_type": "code",
   "execution_count": 26,
   "id": "9881f91a",
   "metadata": {},
   "outputs": [
    {
     "data": {
      "application/vnd.jupyter.widget-view+json": {
       "model_id": "a90eedf196b9428ab41278a335765f66",
       "version_major": 2,
       "version_minor": 0
      },
      "text/plain": [
       "Figure(layout=FigureLayout(height='420px'))"
      ]
     },
     "metadata": {},
     "output_type": "display_data"
    }
   ],
   "source": [
    "# Add a heatmap of temperature for the vacation spots and a pop-up marker for each city.\n",
    "locations = hotel_df[[\"Lat\", \"Lng\"]]\n",
    "max_temp = hotel_df[\"Max Temp\"]\n",
    "fig = gmaps.figure(center=(30.0, 31.0), zoom_level=1.5)\n",
    "heat_layer = gmaps.heatmap_layer(locations, weights=max_temp,dissipating=False,\n",
    "             max_intensity=300, point_radius=4)\n",
    "marker_layer = gmaps.marker_layer(locations, info_box_content=hotel_info)\n",
    "fig.add_layer(heat_layer)\n",
    "fig.add_layer(marker_layer)\n",
    "\n",
    "# Call the figure to plot the data.\n",
    "fig"
   ]
  },
  {
   "cell_type": "code",
   "execution_count": null,
   "id": "92f5019d",
   "metadata": {},
   "outputs": [],
   "source": []
  }
 ],
 "metadata": {
  "kernelspec": {
   "display_name": "PythonData",
   "language": "python",
   "name": "pythondata"
  },
  "language_info": {
   "codemirror_mode": {
    "name": "ipython",
    "version": 3
   },
   "file_extension": ".py",
   "mimetype": "text/x-python",
   "name": "python",
   "nbconvert_exporter": "python",
   "pygments_lexer": "ipython3",
   "version": "3.7.13"
  }
 },
 "nbformat": 4,
 "nbformat_minor": 5
}
